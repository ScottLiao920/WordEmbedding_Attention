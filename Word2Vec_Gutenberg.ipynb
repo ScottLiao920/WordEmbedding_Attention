{
 "cells": [
  {
   "cell_type": "code",
   "execution_count": 2,
   "metadata": {
    "pycharm": {
     "is_executing": false
    },
    "scrolled": true
   },
   "outputs": [],
   "source": [
    "import torch\n",
    "import torch.nn as nn\n",
    "from torch.utils.data import Dataset, DataLoader\n",
    "import nltk\n",
    "import time\n",
    "from nltk.corpus import gutenberg\n",
    "import gensim\n",
    "import json\n",
    "import random\n",
    "import numpy as np\n",
    "from tensorboardX import SummaryWriter\n",
    "import os\n",
    "os.environ['CUDA_VISIBLE_DEVICES'] = '1'\n",
    "import scripts"
   ]
  },
  {
   "cell_type": "markdown",
   "metadata": {},
   "source": [
    "# set random seed for reproducity"
   ]
  },
  {
   "cell_type": "code",
   "execution_count": 3,
   "metadata": {},
   "outputs": [],
   "source": [
    "torch.manual_seed(0)\n",
    "np.random.seed(0)\n",
    "random.seed(0)"
   ]
  },
  {
   "cell_type": "markdown",
   "metadata": {},
   "source": [
    "# settings for training"
   ]
  },
  {
   "cell_type": "code",
   "execution_count": 4,
   "metadata": {},
   "outputs": [],
   "source": [
    "with open('vocab.json', 'r') as f:\n",
    "    vocab = json.load(f)"
   ]
  },
  {
   "cell_type": "code",
   "execution_count": 5,
   "metadata": {},
   "outputs": [],
   "source": [
    "settings = {\n",
    "                'vocab_size': len(vocab),\n",
    "                'window_size': 5,\n",
    "                'num_epochs': 3,\n",
    "                'embedding_dim': 50,\n",
    "                'batch_size': 512,\n",
    "                'num_heads': 12,\n",
    "                'dim_head': 128,\n",
    "                'learning_rate': 2e-3\n",
    "            }"
   ]
  },
  {
   "cell_type": "markdown",
   "metadata": {},
   "source": [
    "# initialize models"
   ]
  },
  {
   "cell_type": "code",
   "execution_count": 15,
   "metadata": {
    "scrolled": true
   },
   "outputs": [
    {
     "name": "stdout",
     "output_type": "stream",
     "text": [
      "{'vocab_size': 51156, 'window_size': 5, 'num_epochs': 3, 'embedding_dim': 50, 'batch_size': 512, 'num_heads': 12, 'dim_head': 128, 'learning_rate': 0.002}\n",
      "\n",
      "98552 sentences fetched.\n",
      "\n",
      "51156 unique words found in corpus\n",
      "2621762 pairs found for training\n"
     ]
    }
   ],
   "source": [
    "CBoW_model = scripts.pytorch_model('CBoW', settings)"
   ]
  },
  {
   "cell_type": "code",
   "execution_count": 13,
   "metadata": {},
   "outputs": [
    {
     "name": "stdout",
     "output_type": "stream",
     "text": [
      "{'vocab_size': 51156, 'window_size': 5, 'num_epochs': 3, 'embedding_dim': 50, 'batch_size': 512, 'num_heads': 12, 'dim_head': 128, 'learning_rate': 0.002}\n",
      "\n",
      "98552 sentences fetched.\n",
      "\n",
      "51156 unique words found in corpus\n",
      "2621762 pairs found for training\n"
     ]
    }
   ],
   "source": [
    "MSE_model = scripts.pytorch_model('MSE', settings)"
   ]
  },
  {
   "cell_type": "code",
   "execution_count": 14,
   "metadata": {},
   "outputs": [
    {
     "name": "stdout",
     "output_type": "stream",
     "text": [
      "{'vocab_size': 51156, 'window_size': 5, 'num_epochs': 3, 'embedding_dim': 50, 'batch_size': 512, 'num_heads': 12, 'dim_head': 128, 'learning_rate': 0.002}\n",
      "\n",
      "98552 sentences fetched.\n",
      "\n",
      "51156 unique words found in corpus\n",
      "2621762 pairs found for training\n"
     ]
    }
   ],
   "source": [
    "COS_model = scripts.pytorch_model(\"COS\", settings)"
   ]
  },
  {
   "cell_type": "markdown",
   "metadata": {},
   "source": [
    "# train the models if needed"
   ]
  },
  {
   "cell_type": "code",
   "execution_count": 8,
   "metadata": {},
   "outputs": [
    {
     "name": "stdout",
     "output_type": "stream",
     "text": [
      "Total number of sentences found: 98552.\n",
      "\n"
     ]
    }
   ],
   "source": [
    "prepro = scripts.PreProcessing()\n",
    "prepro.train_gensim('word2vec_gensim_new.model', settings)"
   ]
  },
  {
   "cell_type": "code",
   "execution_count": 17,
   "metadata": {},
   "outputs": [],
   "source": [
    "if not os.path.exists('MSE_ckpts'):\n",
    "    MSE_model.train()\n",
    "if not os.path.exists('CBoW_ckpts'):\n",
    "    CBoW_model.train()\n",
    "if not os.path.exists('COS_ckpts'):\n",
    "    COS_model.train()"
   ]
  },
  {
   "cell_type": "markdown",
   "metadata": {},
   "source": [
    "# load weights from ckpts"
   ]
  },
  {
   "cell_type": "code",
   "execution_count": 20,
   "metadata": {},
   "outputs": [],
   "source": [
    "# MSE_model.load_state_dict(torch.load('MSE_ckpts/epoch-0.pt'))\n",
    "# COS_model.load_state_dict(torch.load('COS_ckpts/epoch-0.pt'))\n",
    "# CBoW_model.load_state_dict(torch.load('CBoW_ckpts/epoch-0.pt'))"
   ]
  },
  {
   "cell_type": "markdown",
   "metadata": {},
   "source": [
    "#  compare result from these four models by getting synonyms, getting similarities"
   ]
  },
  {
   "cell_type": "code",
   "execution_count": 11,
   "metadata": {},
   "outputs": [],
   "source": [
    "w2v_model = gensim.models.Word2Vec.load('word2vec_gensim.model')"
   ]
  },
  {
   "cell_type": "code",
   "execution_count": 14,
   "metadata": {},
   "outputs": [
    {
     "data": {
      "text/plain": [
       "[('woman', 0.7312480211257935),\n",
       " ('person', 0.7193930149078369),\n",
       " ('body', 0.7164236307144165)]"
      ]
     },
     "execution_count": 14,
     "metadata": {},
     "output_type": "execute_result"
    }
   ],
   "source": [
    "w2v_model.wv.most_similar(['man'], topn=3)"
   ]
  },
  {
   "cell_type": "code",
   "execution_count": 18,
   "metadata": {},
   "outputs": [
    {
     "data": {
      "text/plain": [
       "0.2687519334169457"
      ]
     },
     "execution_count": 18,
     "metadata": {},
     "output_type": "execute_result"
    }
   ],
   "source": [
    "w2v_model.wv.distance('man', 'woman')"
   ]
  },
  {
   "cell_type": "code",
   "execution_count": 26,
   "metadata": {},
   "outputs": [],
   "source": [
    "gensim_model = scripts.PreProcessing()"
   ]
  },
  {
   "cell_type": "code",
   "execution_count": 27,
   "metadata": {},
   "outputs": [],
   "source": [
    "gensim_model.load_gensim('word2vec_gensim_new.model')"
   ]
  },
  {
   "cell_type": "code",
   "execution_count": 30,
   "metadata": {},
   "outputs": [
    {
     "data": {
      "text/plain": [
       "0.2273521626677446"
      ]
     },
     "execution_count": 30,
     "metadata": {},
     "output_type": "execute_result"
    }
   ],
   "source": [
    "gensim_model.get_distance('man', 'woman')"
   ]
  },
  {
   "cell_type": "code",
   "execution_count": 53,
   "metadata": {
    "scrolled": true
   },
   "outputs": [
    {
     "data": {
      "text/plain": [
       "0.7096199989318848"
      ]
     },
     "execution_count": 53,
     "metadata": {},
     "output_type": "execute_result"
    }
   ],
   "source": [
    "((gensim_model.get_embedding('man') - gensim_model.get_embedding('woman')) ** 2).mean()"
   ]
  },
  {
   "cell_type": "code",
   "execution_count": 55,
   "metadata": {},
   "outputs": [
    {
     "data": {
      "text/plain": [
       "0.2273521626677446"
      ]
     },
     "execution_count": 55,
     "metadata": {},
     "output_type": "execute_result"
    }
   ],
   "source": [
    "gensim_model.model.wv.distance('man', 'woman')"
   ]
  },
  {
   "cell_type": "code",
   "execution_count": 50,
   "metadata": {},
   "outputs": [
    {
     "data": {
      "text/plain": [
       "0.7726478373322554"
      ]
     },
     "execution_count": 50,
     "metadata": {},
     "output_type": "execute_result"
    }
   ],
   "source": [
    "gensim_model.model.wv.similarity('man', 'woman')"
   ]
  },
  {
   "cell_type": "code",
   "execution_count": 58,
   "metadata": {},
   "outputs": [
    {
     "data": {
      "text/plain": [
       "0.6428664"
      ]
     },
     "execution_count": 58,
     "metadata": {},
     "output_type": "execute_result"
    }
   ],
   "source": [
    "(tmp1 - tmp2).sum()"
   ]
  },
  {
   "cell_type": "code",
   "execution_count": null,
   "metadata": {},
   "outputs": [],
   "source": []
  }
 ],
 "metadata": {
  "kernelspec": {
   "display_name": "Python 3",
   "language": "python",
   "name": "python3"
  },
  "language_info": {
   "codemirror_mode": {
    "name": "ipython",
    "version": 3
   },
   "file_extension": ".py",
   "mimetype": "text/x-python",
   "name": "python",
   "nbconvert_exporter": "python",
   "pygments_lexer": "ipython3",
   "version": "3.7.3"
  }
 },
 "nbformat": 4,
 "nbformat_minor": 2
}
